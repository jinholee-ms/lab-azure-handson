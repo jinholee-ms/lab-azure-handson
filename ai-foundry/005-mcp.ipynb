{
 "cells": [
  {
   "cell_type": "markdown",
   "id": "ca399873",
   "metadata": {},
   "source": [
    "# Prerequisites\n",
    "본 `ipynb` 은 `Python=3.12` 에서 작성하였습니다. Package dependency 를 해결하기 위해 아래 cell 을 실행해주세요."
   ]
  },
  {
   "cell_type": "markdown",
   "id": "d18deca8",
   "metadata": {},
   "source": [
    "## Install Python packages"
   ]
  },
  {
   "cell_type": "code",
   "execution_count": 2,
   "id": "d8445dd1",
   "metadata": {},
   "outputs": [
    {
     "name": "stdout",
     "output_type": "stream",
     "text": [
      "Note: you may need to restart the kernel to use updated packages.\n"
     ]
    }
   ],
   "source": [
    "%pip -q install -U azure-identity azure-search-documents azure-ai-documentintelligence langchain langchain-community langchain-openai mcp"
   ]
  },
  {
   "cell_type": "markdown",
   "id": "e4789edf",
   "metadata": {},
   "source": [
    "## Load environment variables from a .env file\n",
    "secret 노출을 피하고 notebook 들간의 일관된 환경변수를 설정하기 위해 `dotenv` 을 이용한다."
   ]
  },
  {
   "cell_type": "code",
   "execution_count": 3,
   "id": "14085ef2",
   "metadata": {},
   "outputs": [],
   "source": [
    "import os\n",
    "from dotenv import load_dotenv\n",
    "\n",
    "load_dotenv(override=True)\n",
    "\n",
    "AZURE_OPENAI_API_VERSION = os.getenv(\"AZURE_OPENAI_API_VERSION\")\n",
    "AZURE_OPENAI_ENDPOINT = os.getenv(\"AZURE_OPENAI_ENDPOINT\")\n",
    "AZURE_OPENAI_API_KEY = os.getenv(\"AZURE_OPENAI_API_KEY\")\n",
    "AZURE_OPENAI_EMBEDDING_DEPLOYMENT = os.getenv(\"AZURE_OPENAI_EMBEDDING_DEPLOYMENT\")\n",
    "AZURE_AI_SEARCH_ENDPOINT = os.getenv(\"AZURE_AI_SEARCH_ENDPOINT\")\n",
    "AZURE_AI_SEARCH_ADMIN_KEY = os.getenv(\"AZURE_AI_SEARCH_ADMIN_KEY\")\n",
    "AZURE_DOCUMENTINTELLIGENCE_ENDPOINT = os.getenv(\"AZURE_DOCUMENTINTELLIGENCE_ENDPOINT\")\n",
    "AZURE_DOCUMENTINTELLIGENCE_API_KEY = os.getenv(\"AZURE_DOCUMENTINTELLIGENCE_API_KEY\")\n",
    "ACCUWEATHER_API_KEY = os.getenv(\"ACCUWEATHER_API_KEY\")\n",
    "MCP_WEATHER_URL = os.getenv(\"MCP_WEATHER_URL\")"
   ]
  },
  {
   "cell_type": "markdown",
   "id": "7a49d91f",
   "metadata": {},
   "source": [
    "# MCP\n",
    "MCP 는 AI agent 의 표준 stack 에서 data layer 의 복잡성을 줄여 model context 에 접근하게 하는 표준 통신 규격이다."
   ]
  },
  {
   "cell_type": "markdown",
   "id": "7947c531",
   "metadata": {},
   "source": [
    "## Communicating with MCP server by HTTP gateway"
   ]
  },
  {
   "cell_type": "code",
   "execution_count": 17,
   "id": "46997851",
   "metadata": {},
   "outputs": [
    {
     "name": "stdout",
     "output_type": "stream",
     "text": [
      "name: weather-get_hourly\n",
      "description: Get hourly weather forecast for the next 12 hours\n",
      "inputSchema: {'type': 'object', 'properties': {'location': {'type': 'string', 'description': 'The city or location for which to retrieve the weather forecast.'}, 'units': {'type': 'string', 'description': 'Temperature unit system (metric for Celsius, imperial for Fahrenheit). Default is metric.', 'enum': ['metric', 'imperial']}}, 'required': ['location']}\n",
      "\n",
      "name: weather-get_daily\n",
      "description: Get daily weather forecast for up to 15 days\n",
      "inputSchema: {'type': 'object', 'properties': {'location': {'type': 'string', 'description': 'The city or location for which to retrieve the weather forecast.'}, 'days': {'type': 'number', 'description': 'Number of days to forecast (1, 5, 10, or 15). Default is 5.', 'enum': [1, 5, 10, 15]}, 'units': {'type': 'string', 'description': 'Temperature unit system (metric for Celsius, imperial for Fahrenheit). Default is metric.', 'enum': ['metric', 'imperial']}}, 'required': ['location']}\n",
      "\n"
     ]
    }
   ],
   "source": [
    "from mcp.client.sse import sse_client\n",
    "from mcp.client.session import ClientSession\n",
    "\n",
    "async with sse_client(MCP_WEATHER_URL + \"/sse\") as (r, w), ClientSession(r, w) as session:\n",
    "    await session.initialize()\n",
    "    data = await session.list_tools()\n",
    "    \n",
    "    for item in data:\n",
    "        if item[0] == \"tools\":\n",
    "            for tool in item[1]:\n",
    "                print(f\"name: {tool.name}\")\n",
    "                print(f\"description: {tool.description}\")\n",
    "                print(f\"inputSchema: {tool.inputSchema}\\n\")"
   ]
  },
  {
   "cell_type": "code",
   "execution_count": 6,
   "id": "0abfbf4b",
   "metadata": {},
   "outputs": [
    {
     "name": "stdout",
     "output_type": "stream",
     "text": [
      "=== 🤖 Tool Calling Message ===\n",
      "Tool Name: weather-get_hourly\n",
      "Tool Arguments: {\"location\":\"Paris, France\",\"units\":\"metric\"}\n",
      "=== 🤖 Response Message ===\n",
      "파리 현지시각 23:00 기준 현재 기온은 약 13.4°C이며, 대체로 흐립니다.\n",
      "\n",
      "=== Response Usage ===\n",
      "{\n",
      "  \"completion_tokens\": 679,\n",
      "  \"prompt_tokens\": 618,\n",
      "  \"total_tokens\": 1297,\n",
      "  \"completion_tokens_details\": {\n",
      "    \"accepted_prediction_tokens\": 0,\n",
      "    \"audio_tokens\": 0,\n",
      "    \"reasoning_tokens\": 640,\n",
      "    \"rejected_prediction_tokens\": 0\n",
      "  },\n",
      "  \"prompt_tokens_details\": {\n",
      "    \"audio_tokens\": 0,\n",
      "    \"cached_tokens\": 0\n",
      "  }\n",
      "}\n"
     ]
    }
   ],
   "source": [
    "import json\n",
    "\n",
    "from mcp.client.sse import sse_client\n",
    "from mcp.client.session import ClientSession\n",
    "from openai import AzureOpenAI\n",
    "\n",
    "client = AzureOpenAI(\n",
    "    api_version=AZURE_OPENAI_API_VERSION,\n",
    "    azure_endpoint=AZURE_OPENAI_ENDPOINT,\n",
    "    api_key=AZURE_OPENAI_API_KEY,\n",
    ")\n",
    "\n",
    "async with sse_client(MCP_WEATHER_URL + \"/sse\") as (r, w), ClientSession(r, w) as session:\n",
    "    await session.initialize()\n",
    "    tools = await session.list_tools()\n",
    "    \n",
    "    tools = [{\n",
    "        \"type\": \"function\",\n",
    "        \"function\": {\n",
    "            \"name\": tool.name,\n",
    "            \"description\": tool.description,\n",
    "            \"parameters\": tool.inputSchema,\n",
    "        }\n",
    "    } for tool in tools.tools]\n",
    "    while True:\n",
    "        city = input(\"도시 이름을 입력하세요: \")\n",
    "        if not city or city.lower() == \"exit\":\n",
    "            break\n",
    "    \n",
    "        messages = [{\"role\": \"user\", \"content\": f\"{city}의 현재 날씨를 알려줘.\"}]\n",
    "        r = client.chat.completions.create(\n",
    "            model=\"gpt-5\", messages=messages, tools=tools,\n",
    "        )\n",
    "        \n",
    "        msg = r.choices[0].message\n",
    "        messages.append(msg)\n",
    "\n",
    "        # Handle function calls\n",
    "        if msg.tool_calls:\n",
    "            for tool_call in msg.tool_calls:\n",
    "                    print(\"=== 🤖 Tool Calling Message ===\")\n",
    "                    print(f\"Tool Name: {tool_call.function.name}\")\n",
    "                    print(f\"Tool Arguments: {tool_call.function.arguments}\")\n",
    "\n",
    "                    function_args = json.loads(tool_call.function.arguments)\n",
    "                    result = await session.call_tool(tool_call.function.name, function_args)\n",
    "                    messages.append({\n",
    "                        \"tool_call_id\": tool_call.id,\n",
    "                        \"role\": \"tool\",\n",
    "                        \"name\": tool_call.function.name,\n",
    "                        \"content\": result.content,\n",
    "                    })\n",
    "        else:\n",
    "            print(\"No tool calls were made by the model\")\n",
    "\n",
    "        # Get the final response from the model\n",
    "        r = client.chat.completions.create(\n",
    "            model=\"gpt-5\", messages=messages, tools=tools,\n",
    "        )\n",
    "\n",
    "        print(\"=== 🤖 Response Message ===\")\n",
    "        print(r.choices[0].message.content)\n",
    "        print(\"\\n=== 🤖 Response Usage ===\")\n",
    "        print(r.usage.model_dump_json(indent=2))"
   ]
  }
 ],
 "metadata": {
  "kernelspec": {
   "display_name": "env-lab-azure-handson-ai-foundry-001",
   "language": "python",
   "name": "python3"
  },
  "language_info": {
   "codemirror_mode": {
    "name": "ipython",
    "version": 3
   },
   "file_extension": ".py",
   "mimetype": "text/x-python",
   "name": "python",
   "nbconvert_exporter": "python",
   "pygments_lexer": "ipython3",
   "version": "3.12.0"
  }
 },
 "nbformat": 4,
 "nbformat_minor": 5
}
