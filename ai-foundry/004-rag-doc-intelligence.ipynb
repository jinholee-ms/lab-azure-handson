{
 "cells": [
  {
   "cell_type": "markdown",
   "id": "ca399873",
   "metadata": {},
   "source": [
    "# Prerequisites\n",
    "본 `ipynb` 은 `Python=3.12` 에서 작성하였습니다. Package dependency 를 해결하기 위해 아래 cell 을 실행해주세요."
   ]
  },
  {
   "cell_type": "markdown",
   "id": "d18deca8",
   "metadata": {},
   "source": [
    "## Install Python packages"
   ]
  },
  {
   "cell_type": "code",
   "execution_count": null,
   "id": "d8445dd1",
   "metadata": {},
   "outputs": [],
   "source": [
    "%pip -q install -U azure-identity azure-search-documents azure-ai-documentintelligence langchain langchain-community langchain-openai"
   ]
  },
  {
   "cell_type": "markdown",
   "id": "e4789edf",
   "metadata": {},
   "source": [
    "## Load environment variables from a .env file\n",
    "secret 노출을 피하고 notebook 들간의 일관된 환경변수를 설정하기 위해 `dotenv` 을 이용한다."
   ]
  },
  {
   "cell_type": "code",
   "execution_count": null,
   "id": "14085ef2",
   "metadata": {},
   "outputs": [],
   "source": [
    "import os\n",
    "from dotenv import load_dotenv\n",
    "\n",
    "load_dotenv(override=True)\n",
    "\n",
    "AZURE_OPENAI_API_VERSION = os.getenv(\"AZURE_OPENAI_API_VERSION\")\n",
    "AZURE_OPENAI_ENDPOINT = os.getenv(\"AZURE_OPENAI_ENDPOINT\")\n",
    "AZURE_OPENAI_API_KEY = os.getenv(\"AZURE_OPENAI_API_KEY\")\n",
    "AZURE_OPENAI_EMBEDDING_DEPLOYMENT = os.getenv(\"AZURE_OPENAI_EMBEDDING_DEPLOYMENT\")\n",
    "AZURE_AI_SEARCH_ENDPOINT = os.getenv(\"AZURE_AI_SEARCH_ENDPOINT\")\n",
    "AZURE_AI_SEARCH_ADMIN_KEY = os.getenv(\"AZURE_AI_SEARCH_ADMIN_KEY\")\n",
    "AZURE_DOCUMENTINTELLIGENCE_ENDPOINT = os.getenv(\"AZURE_DOCUMENTINTELLIGENCE_ENDPOINT\")\n",
    "AZURE_DOCUMENTINTELLIGENCE_API_KEY = os.getenv(\"AZURE_DOCUMENTINTELLIGENCE_API_KEY\")"
   ]
  },
  {
   "cell_type": "markdown",
   "id": "7a49d91f",
   "metadata": {},
   "source": [
    "# AI Enrichment\n",
    "Azure 의 Document Intelligence 는 비정형 문서에서 텍스트, 테이블, 폼 등을 추출하여 구조화하는데 필수적인 AI 서비스이다. PDF 등과 같은 문서를 ETL pipeline 을 태울 때 유용하게 사용된다."
   ]
  },
  {
   "cell_type": "markdown",
   "id": "c4581f94",
   "metadata": {},
   "source": [
    "## Loading Document\n",
    "Native 하게 Azure SDK 를 써도 되지만, langchain 이 abstraction 을 잘해놓아서 이를 활용해보자."
   ]
  },
  {
   "cell_type": "code",
   "execution_count": null,
   "id": "0abfbf4b",
   "metadata": {},
   "outputs": [],
   "source": [
    "import os\n",
    "from langchain_community.document_loaders.doc_intelligence import AzureAIDocumentIntelligenceLoader\n",
    "from langchain_text_splitters import RecursiveCharacterTextSplitter\n",
    "from langchain_openai import AzureOpenAIEmbeddings\n",
    "from langchain_community.vectorstores.azuresearch import AzureSearch\n",
    "\n",
    "loader = AzureAIDocumentIntelligenceLoader(\n",
    "    api_endpoint=os.environ[\"AZURE_DOCUMENTINTELLIGENCE_ENDPOINT\"],\n",
    "    api_key=os.environ[\"AZURE_DOCUMENTINTELLIGENCE_API_KEY\"],\n",
    "    file_path=\"./resources/KB주택시장리뷰_2025년 10월호.pdf\",\n",
    "    api_model=\"prebuilt-layout\",\n",
    ")\n",
    "docs = loader.load()\n",
    "\n",
    "splitter = RecursiveCharacterTextSplitter(chunk_size=1000, chunk_overlap=0)\n",
    "chunks = splitter.split_documents(docs)\n"
   ]
  },
  {
   "cell_type": "code",
   "execution_count": null,
   "id": "3c626c9a",
   "metadata": {},
   "outputs": [],
   "source": [
    "# metadata 에 있는 값들을 document 에 들어가기에 중복되는 key 들을 제거한다.\n",
    "for d in chunks:\n",
    "    d.metadata.pop(\"content\", None)          # 충돌 키 제거\n",
    "    d.metadata.pop(\"content_vector\", None)   # (안전)\n",
    "    d.metadata.pop(\"id\", None)"
   ]
  },
  {
   "cell_type": "markdown",
   "id": "bd80602a",
   "metadata": {},
   "source": [
    "## Upload Documents\n",
    "위에서 parsing 한 chunks 들을 embeddings 해서 AI Search 로 업로드하자."
   ]
  },
  {
   "cell_type": "code",
   "execution_count": null,
   "id": "bcfcae59",
   "metadata": {},
   "outputs": [],
   "source": [
    "index_name = \"housing\"\n",
    "\n",
    "emb = AzureOpenAIEmbeddings(\n",
    "    azure_endpoint=AZURE_OPENAI_ENDPOINT,\n",
    "    api_key=AZURE_OPENAI_API_KEY,\n",
    "    azure_deployment=AZURE_OPENAI_EMBEDDING_DEPLOYMENT,\n",
    "    openai_api_version=AZURE_OPENAI_API_VERSION,\n",
    ")\n",
    "\n",
    "# 여기선 index name 이 없을 때 schema 를 추론하여 자동 생성해준다.\n",
    "vs = AzureSearch(\n",
    "    azure_search_endpoint=AZURE_AI_SEARCH_ENDPOINT,\n",
    "    azure_search_key=AZURE_AI_SEARCH_ADMIN_KEY,\n",
    "    index_name=index_name,\n",
    "    embedding_function=emb.embed_query,\n",
    ")\n",
    "vs.add_documents(documents=chunks)"
   ]
  },
  {
   "cell_type": "markdown",
   "id": "507da8ab",
   "metadata": {},
   "source": [
    "## Process search query\n",
    "한번 search methods 를 사용해보자."
   ]
  },
  {
   "cell_type": "code",
   "execution_count": null,
   "id": "19b0264e",
   "metadata": {},
   "outputs": [],
   "source": [
    "# Perform a similarity search\n",
    "docs = vs.similarity_search(\n",
    "    query=\"매매가격 상승폭이 가장 컸던 지역은?\",\n",
    "    k=3,\n",
    "    search_type=\"hybrid\",\n",
    ")\n",
    "print(docs[0].page_content)"
   ]
  },
  {
   "cell_type": "markdown",
   "id": "9ad941aa",
   "metadata": {},
   "source": [
    "## Delete the index\n",
    "사용하지 않는다면, index 는 삭제하자."
   ]
  },
  {
   "cell_type": "code",
   "execution_count": null,
   "id": "0340ffa2",
   "metadata": {},
   "outputs": [],
   "source": [
    "from azure.core.credentials import AzureKeyCredential\n",
    "from azure.search.documents.indexes import SearchIndexClient\n",
    "\n",
    "index_client = SearchIndexClient(\n",
    "    endpoint=AZURE_AI_SEARCH_ENDPOINT,\n",
    "    credential=AzureKeyCredential(AZURE_AI_SEARCH_ADMIN_KEY),\n",
    ").delete_index(index_name)"
   ]
  }
 ],
 "metadata": {
  "kernelspec": {
   "display_name": "env-lab-azure-handson-ai-foundry-001",
   "language": "python",
   "name": "python3"
  },
  "language_info": {
   "codemirror_mode": {
    "name": "ipython",
    "version": 3
   },
   "file_extension": ".py",
   "mimetype": "text/x-python",
   "name": "python",
   "nbconvert_exporter": "python",
   "pygments_lexer": "ipython3",
   "version": "3.12.0"
  }
 },
 "nbformat": 4,
 "nbformat_minor": 5
}
