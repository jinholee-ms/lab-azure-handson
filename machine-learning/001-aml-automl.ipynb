{
  "cells": [
    {
      "cell_type": "markdown",
      "id": "35901eda",
      "metadata": {},
      "source": [
        "# Prerequisites\n",
        "본 `ipynb` 은 `Python=3.12` 에서 작성하였습니다. Package dependency 를 해결하기 위해 아래 cell 을 실행해주세요."
      ]
    },
    {
      "cell_type": "markdown",
      "metadata": {},
      "source": [
        "## Install Python packages"
      ]
    },
    {
      "cell_type": "code",
      "execution_count": null,
      "id": "fed5e1f0",
      "metadata": {},
      "outputs": [],
      "source": [
        "%pip -q install -U dotenv azure-ai-ml azure-identity azureml-mlflow mlflow"
      ]
    },
    {
      "cell_type": "markdown",
      "id": "0f1cb02e",
      "metadata": {},
      "source": [
        "## Load environment variables from a .env file\n",
        "secret 노출을 피하고 notebook 들간의 일관된 환경변수를 설정하기 위해 `dotenv` 을 이용한다."
      ]
    },
    {
      "cell_type": "code",
      "execution_count": null,
      "id": "50e0ec08",
      "metadata": {},
      "outputs": [],
      "source": [
        "import os\n",
        "from dotenv import load_dotenv\n",
        "\n",
        "load_dotenv(override=True)\n",
        "\n",
        "AZURE_AML_SUBSCRIPTION_ID = os.getenv(\"AZURE_AML_SUBSCRIPTION_ID\")\n",
        "AZURE_AML_RESOURCE_GROUP = os.getenv(\"AZURE_AML_RESOURCE_GROUP\")\n",
        "AZURE_AML_WORKSPACE = os.getenv(\"AZURE_AML_WORKSPACE\")\n",
        "AZURE_AML_CLUSTER = os.getenv(\"AZURE_AML_CLUSTER\")"
      ]
    },
    {
      "cell_type": "markdown",
      "id": "63c7ada3",
      "metadata": {},
      "source": [
        "# Create a Azure Machine Learning cilent\n",
        "Azure Machine Learning 의 Client 객체인 `MLClient` 을 생성한다. 본 예제는 Azure CLI 로그인 Credential 을 사용하고 있다. 터미널에서 `az login` 을 정상적으로 완료하여야 한다. `az` 명령어가 설치되어 있지 않다면 [Azure CLI 설치하는 방법](https://learn.microsoft.com/ko-kr/cli/azure/install-azure-cli?view=azure-cli-latest) 을 참고한다."
      ]
    },
    {
      "cell_type": "code",
      "execution_count": null,
      "id": "d425fc04",
      "metadata": {},
      "outputs": [],
      "source": [
        "from azure.identity import AzureCliCredential\n",
        "from azure.ai.ml import MLClient\n",
        "\n",
        "ml_client = MLClient(\n",
        "    AzureCliCredential(),\n",
        "    AZURE_AML_SUBSCRIPTION_ID,\n",
        "    AZURE_AML_RESOURCE_GROUP,\n",
        "    AZURE_AML_WORKSPACE,\n",
        ")"
      ]
    },
    {
      "cell_type": "markdown",
      "id": "4af143f9",
      "metadata": {},
      "source": [
        "# AutoML\n",
        "AutoML 은 머신러닝 모델의 설계-학습-튜닝 과정을 자동화하여 효율적으로 고품질 모델을 만들 수 있도록 돕는다. AML 에서 AutoML (Automated ML) 을 지원하며 Regression 모델과 tabular 데이터를 통해 이를 실습해보자."
      ]
    },
    {
      "cell_type": "markdown",
      "id": "2ca577b4",
      "metadata": {},
      "source": [
        "## Define a input dataset\n",
        "`MLTable` 파일을 이용하여 csv 의 schema 를 정의하고 이를 AML 의 asset 으로 생성한다."
      ]
    },
    {
      "cell_type": "code",
      "execution_count": null,
      "id": "368fdd93",
      "metadata": {},
      "outputs": [],
      "source": [
        "from azure.ai.ml import Input\n",
        "from azure.ai.ml.constants import AssetTypes\n",
        "\n",
        "my_training_data_input = Input(\n",
        "    type=AssetTypes.MLTABLE, path=\"./resources/training-mltable-folder\",\n",
        ")"
      ]
    },
    {
      "cell_type": "markdown",
      "id": "2bd20063",
      "metadata": {},
      "source": [
        "데이터는 어떻게 생겼을까 ?"
      ]
    },
    {
      "cell_type": "code",
      "execution_count": null,
      "id": "1d55797c",
      "metadata": {},
      "outputs": [],
      "source": [
        "import pandas as pd\n",
        "\n",
        "pd.read_csv(\"./resources/training-mltable-folder/training-machine-dataset.csv\")"
      ]
    },
    {
      "cell_type": "markdown",
      "id": "524b7d77",
      "metadata": {},
      "source": [
        "## Create a job and submit it\n",
        "`AutoML` 의 `regression` 기능을 통해 ERP 에 대한 회귀 모델을 학습하는 job 을 생성하여 AML 에 제출한다."
      ]
    },
    {
      "cell_type": "code",
      "execution_count": null,
      "id": "3ddccf02",
      "metadata": {},
      "outputs": [],
      "source": [
        "from azure.ai.ml import automl\n",
        "from azure.ai.ml.automl import ColumnTransformer\n",
        "\n",
        "job = automl.regression(\n",
        "    experiment_name=\"expr-automl-regression-dpv2\",\n",
        "    training_data=my_training_data_input,\n",
        "    target_column_name=\"ERP\",\n",
        "    primary_metric=\"R2Score\",\n",
        "    n_cross_validations=5,\n",
        "    enable_model_explainability=True,\n",
        "    compute=AZURE_AML_CLUSTER,\n",
        ")\n",
        "job.set_limits(\n",
        "    timeout_minutes=600,\n",
        "    trial_timeout_minutes=20,\n",
        "    max_trials=5,\n",
        "    enable_early_termination=True,\n",
        ")\n",
        "job.set_featurization(\n",
        "    mode=\"custom\",\n",
        "    transformer_params={\n",
        "        \"imputer\": [\n",
        "            ColumnTransformer(\n",
        "                fields=[\"CACH\"],\n",
        "                parameters={\"strategy\": \"most_frequent\"},\n",
        "            ),\n",
        "            ColumnTransformer(\n",
        "                fields=[\"PRP\"],\n",
        "                parameters={\"strategy\": \"most_frequent\"},\n",
        "            ),\n",
        "        ],\n",
        "    },\n",
        "    blocked_transformers=[\"LabelEncoder\"],\n",
        "    column_name_and_types={\"CHMIN\": \"Categorical\"},\n",
        ")\n",
        "print(f\"Created Job: {job.experiment_name}\")\n",
        "\n",
        "returned_job = ml_client.jobs.create_or_update(job)\n",
        "print(f\"Submitted Job: {job.display_name}\")\n",
        "\n",
        "ml_client.jobs.stream(returned_job.name)"
      ]
    },
    {
      "cell_type": "markdown",
      "id": "f3a765bd",
      "metadata": {},
      "source": [
        "## Select the best model from mlflow\n",
        "`AutoML` 이 여러 알고리즘을 통해 모델을 학습했는데, 그 중에서 성능이 가장 우수한 Best Model 은 어떤 것일까 ?"
      ]
    },
    {
      "cell_type": "code",
      "execution_count": null,
      "id": "b06cc186",
      "metadata": {},
      "outputs": [],
      "source": [
        "import json\n",
        "\n",
        "import mlflow\n",
        "from mlflow.tracking.client import MlflowClient\n",
        "from mlflow.artifacts import download_artifacts\n",
        "\n",
        "# mlflow SDK tracking uri 를 aml mlflow 로 설정\n",
        "MLFLOW_TRACKING_URI = ml_client.workspaces.get(\n",
        "    name=ml_client.workspace_name,\n",
        ").mlflow_tracking_uri\n",
        "mlflow.set_tracking_uri(MLFLOW_TRACKING_URI)\n",
        "print(\"\\nCurrent tracking uri: {}\".format(mlflow.get_tracking_uri()))\n",
        "\n",
        "# parent run 정보 가져오기\n",
        "mlflow_client = MlflowClient()\n",
        "mlflow_parent_run = mlflow_client.get_run(returned_job.name)\n",
        "print(f\"Parent Run: {mlflow_parent_run.info.run_id}\")\n",
        "# Print parent run tags. 'automl_best_child_run_id' tag should be there.\n",
        "print(f\"Parent Run Tags: {json.dumps(mlflow_parent_run.data.tags, indent=2)}\")\n",
        "\n",
        "# best model 찾기\n",
        "best_child_run_id = mlflow_parent_run.data.tags[\"automl_best_child_run_id\"]\n",
        "best_run = mlflow_client.get_run(best_child_run_id)\n",
        "print(\"Found best child run id: \", best_run.info.run_id)\n"
      ]
    },
    {
      "cell_type": "markdown",
      "id": "9e3f612c",
      "metadata": {},
      "source": [
        "## (Optional) Download the best model locally\n",
        "모델은 mlflow 에 artifact 로 저장된다. 사용자는 mlflow 의 tracking uri 을 AML 쪽으로 변경하여 mlflow SDK 를 통해 artifact 에 접근할 수 있다."
      ]
    },
    {
      "cell_type": "code",
      "execution_count": null,
      "id": "5ad6c1fa",
      "metadata": {},
      "outputs": [],
      "source": [
        "import os\n",
        "\n",
        "# artifact 다운로드를 위한 로컬 디렉토리 생성 후 다운로드\n",
        "local_dir = \"./artifact_downloads\"\n",
        "if not os.path.exists(local_dir):\n",
        "    os.mkdir(local_dir)\n",
        "local_path = download_artifacts(\n",
        "    run_id=best_run.info.run_id, artifact_path=\"outputs\", dst_path=local_dir\n",
        ")\n",
        "\n",
        "# 폴더내 mlflow 모델 파일들 확인\n",
        "os.listdir(local_dir + \"/outputs/mlflow-model\")"
      ]
    },
    {
      "cell_type": "markdown",
      "id": "7cf26241",
      "metadata": {},
      "source": [
        "# Model Deployment\n",
        "모델을 학습했으니, 마지막으로 모델 배포다. 모델 배포 모듈은 Endpoint 와 Deployment 로 구성된다. Endpoint 는 model deployment 에 대한 reverse proxy 로, 권한&인증/traffic 관리/모니터링 등의 기능을 가진다. Deployment 는 모델을 안정적으로 배포하는 환경을 구축하며, 모델에 따른 다양한 runtime 환경을 지원한다."
      ]
    },
    {
      "cell_type": "markdown",
      "id": "f067912e",
      "metadata": {},
      "source": [
        "## Create a managed online endpoint\n",
        "먼저 endpoint 를 배포해보자. 실시간 추론을 지원하는 online type 으로 배포한다."
      ]
    },
    {
      "cell_type": "code",
      "execution_count": null,
      "id": "be707063",
      "metadata": {},
      "outputs": [],
      "source": [
        "import datetime\n",
        "from azure.ai.ml.entities import (\n",
        "    ManagedOnlineEndpoint,\n",
        "    ManagedOnlineDeployment,\n",
        "    Model,\n",
        "    ProbeSettings,\n",
        ")\n",
        "\n",
        "endpoint_name = \"regression-\" + datetime.datetime.now().strftime(\"%m%d%H%M%f\")\n",
        "endpoint = ManagedOnlineEndpoint(name=endpoint_name, auth_mode=\"key\")\n",
        "ml_client.begin_create_or_update(endpoint).result()"
      ]
    },
    {
      "cell_type": "markdown",
      "id": "24873a1f",
      "metadata": {},
      "source": [
        "## Create a online deployment\n",
        "다음은 Deployment 이다. Endpoint 와 동일하게 실시간 추론 타입으로 배포하자."
      ]
    },
    {
      "cell_type": "code",
      "execution_count": null,
      "id": "400ac320",
      "metadata": {},
      "outputs": [],
      "source": [
        "model = Model(\n",
        "    path=f\"azureml://jobs/{best_run.info.run_id}/outputs/artifacts/outputs/mlflow-model/\",\n",
        "    name=\"hardware-performance-model\",\n",
        "    type=AssetTypes.MLFLOW_MODEL,\n",
        ")\n",
        "registered_model = ml_client.models.create_or_update(model)\n",
        "registered_model.id\n",
        "\n",
        "deployment = ManagedOnlineDeployment(\n",
        "    name=\"hardware-performance-deploy\",\n",
        "    endpoint_name=endpoint_name,\n",
        "    model=registered_model.id,\n",
        "    instance_type=\"Standard_DS3_V2\",\n",
        "    instance_count=1,\n",
        "    liveness_probe=ProbeSettings(\n",
        "        failure_threshold=30,\n",
        "        success_threshold=1,\n",
        "        timeout=2,\n",
        "        period=10,\n",
        "        initial_delay=2000,\n",
        "    ),\n",
        "    readiness_probe=ProbeSettings(\n",
        "        failure_threshold=10,\n",
        "        success_threshold=1,\n",
        "        timeout=10,\n",
        "        period=10,\n",
        "        initial_delay=2000,\n",
        "    ),\n",
        ")\n",
        "ml_client.online_deployments.begin_create_or_update(deployment).result()\n",
        "\n",
        "# 생성된 deployment 에 트래픽 할당\n",
        "endpoint.traffic = {\"hardware-performance-deploy\": 100}\n",
        "ml_client.begin_create_or_update(endpoint).result()"
      ]
    },
    {
      "cell_type": "markdown",
      "id": "4cca6c1c",
      "metadata": {},
      "source": [
        "## Test Inference\n",
        "배포가 완료되었으니, 테스트해볼까요 ?"
      ]
    },
    {
      "cell_type": "code",
      "execution_count": null,
      "id": "3daa9b01",
      "metadata": {},
      "outputs": [],
      "source": [
        "import pandas as pd\n",
        "\n",
        "# Test 파일 생성\n",
        "data = pd.read_csv(\"./resources/training-mltable-folder/training-machine-dataset.csv\")\n",
        "data = data.drop(\"ERP\", axis=1)\n",
        "data_json = data.to_json(orient=\"records\", indent=4)\n",
        "\n",
        "request_file_name = \"request.json\"\n",
        "with open(request_file_name, \"w\") as request_file:\n",
        "    request_file.write('{\"input_data\": {\"data\": '+ data_json + \"}}\")\n",
        "\n",
        "# Endpoint 에 추론 요청\n",
        "response = ml_client.online_endpoints.invoke(\n",
        "    endpoint_name=\"regression-10252057277986\",\n",
        "    deployment_name=\"hardware-performance-deploy\",\n",
        "    request_file=request_file_name,\n",
        ")\n",
        "response"
      ]
    },
    {
      "cell_type": "markdown",
      "id": "45a97864",
      "metadata": {},
      "source": [
        "## (Optional) Delete all resources\n",
        "필요하다면 삭제하자."
      ]
    },
    {
      "cell_type": "code",
      "execution_count": null,
      "id": "97fb051b",
      "metadata": {},
      "outputs": [],
      "source": [
        "ml_client.online_endpoints.begin_delete(name=endpoint_name)"
      ]
    }
  ],
  "metadata": {
    "kernelspec": {
      "display_name": "env-lab-azure-handson-machine-learning-001",
      "language": "python",
      "name": "python3"
    },
    "language_info": {
      "codemirror_mode": {
        "name": "ipython",
        "version": 3
      },
      "file_extension": ".py",
      "mimetype": "text/x-python",
      "name": "python",
      "nbconvert_exporter": "python",
      "pygments_lexer": "ipython3",
      "version": "3.12.0"
    }
  },
  "nbformat": 4,
  "nbformat_minor": 5
}
