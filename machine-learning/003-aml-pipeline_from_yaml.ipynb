{
 "cells": [
  {
   "cell_type": "markdown",
   "metadata": {},
   "source": [
    "# Install Python packages"
   ]
  },
  {
   "cell_type": "code",
   "execution_count": null,
   "metadata": {},
   "outputs": [],
   "source": [
    "%pip -q install -U dotenv azure-ai-ml azure-identity azureml-mlflow mlflow"
   ]
  },
  {
   "cell_type": "markdown",
   "metadata": {},
   "source": [
    "# Load environment variables from a .env file\n",
    "secret 노출을 피하고 notebook 들간의 일관된 환경변수를 설정하기 위해 `dotenv` 을 이용한다."
   ]
  },
  {
   "cell_type": "code",
   "execution_count": null,
   "metadata": {},
   "outputs": [],
   "source": [
    "import os\n",
    "from dotenv import load_dotenv\n",
    "\n",
    "load_dotenv(override=True)\n",
    "\n",
    "AZURE_AML_SUBSCRIPTION_ID = os.getenv(\"AZURE_AML_SUBSCRIPTION_ID\")\n",
    "AZURE_AML_RESOURCE_GROUP = os.getenv(\"AZURE_AML_RESOURCE_GROUP\")\n",
    "AZURE_AML_WORKSPACE = os.getenv(\"AZURE_AML_WORKSPACE\")\n",
    "AZURE_AML_CLUSTER = os.getenv(\"AZURE_AML_CLUSTER\")"
   ]
  },
  {
   "cell_type": "markdown",
   "metadata": {},
   "source": [
    "# Create a Azure Machine Learning cilent\n",
    "Azure Machine Learning 의 Client 객체인 `MLClient` 을 생성한다. 본 예제는 Azure CLI 로그인 Credential 을 사용하고 있다. 터미널에서 `az login` 을 정상적으로 완료하여야 한다. `az` 명령어가 설치되어 있지 않다면 [Azure CLI 설치하는 방법](https://learn.microsoft.com/ko-kr/cli/azure/install-azure-cli?view=azure-cli-latest) 을 참고한다."
   ]
  },
  {
   "cell_type": "code",
   "execution_count": null,
   "metadata": {},
   "outputs": [],
   "source": [
    "from azure.identity import DefaultAzureCredential\n",
    "from azure.ai.ml import MLClient\n",
    "\n",
    "ml_client = MLClient(\n",
    "    DefaultAzureCredential(),\n",
    "    AZURE_AML_SUBSCRIPTION_ID,\n",
    "    AZURE_AML_RESOURCE_GROUP,\n",
    "    AZURE_AML_WORKSPACE,\n",
    ")"
   ]
  },
  {
   "cell_type": "markdown",
   "metadata": {},
   "source": [
    "# Workflow pipeline\n",
    "AML 은 `airflow` 와 같은 task management framework 와 같이 DAG 기반의 pipeline 을 지원한다. 사용자는 component 간의 재사용성을 높이며 견고한 개발 파이프라인을 구축해 나갈 수 있다.\n",
    "예제 시나리오는, 일반적인 ML Pipeline 에서의 \"모델 학습\" - \"평가 (추론 포함)\" 으로 구성된다."
   ]
  },
  {
   "cell_type": "markdown",
   "metadata": {},
   "source": [
    "## Load workflow components\n",
    "Pipeline 에 사용할 components 를 로드한다."
   ]
  },
  {
   "cell_type": "code",
   "execution_count": null,
   "metadata": {},
   "outputs": [],
   "source": [
    "from azure.ai.ml import MLClient, Input\n",
    "from azure.ai.ml.dsl import pipeline\n",
    "from azure.ai.ml import load_component\n",
    "\n",
    "train_model = load_component(source=\"./resources/pipeline-from-yaml/train_model.yml\")\n",
    "score_data = load_component(source=\"./resources/pipeline-from-yaml/score_data.yml\")\n",
    "eval_model = load_component(source=\"./resources/pipeline-from-yaml/eval_model.yml\")\n",
    "print(train_model)"
   ]
  },
  {
   "cell_type": "markdown",
   "metadata": {},
   "source": [
    "## Create a pipeline and submit it\n",
    "AML 의 `pipeline` 기능을 통해 job 을 생성하여 AML 에 제출한다."
   ]
  },
  {
   "cell_type": "code",
   "execution_count": null,
   "metadata": {},
   "outputs": [],
   "source": [
    "# Construct pipeline\n",
    "@pipeline()\n",
    "def pipeline_with_components_from_yaml(\n",
    "    training_input,\n",
    "    test_input,\n",
    "    training_max_epochs=20,\n",
    "    training_learning_rate=1.8,\n",
    "    learning_rate_schedule=\"time-based\",\n",
    "):\n",
    "    train_mdl = train_model(\n",
    "        training_data=training_input,\n",
    "        max_epochs=training_max_epochs,\n",
    "        learning_rate=training_learning_rate,\n",
    "        learning_rate_schedule=learning_rate_schedule,\n",
    "    )\n",
    "\n",
    "    scored_data = score_data(\n",
    "        model_input=train_mdl.outputs.model_output,\n",
    "        test_data=test_input\n",
    "    )\n",
    "    scored_data.outputs.score_output.mode = \"upload\"\n",
    "\n",
    "    eval_mdl = eval_model(\n",
    "        scoring_result=scored_data.outputs.score_output\n",
    "    )\n",
    "\n",
    "    return {\n",
    "        \"trained_model\": train_mdl.outputs.model_output,\n",
    "        \"scored_data\": scored_data.outputs.score_output,\n",
    "        \"evaluation_report\": eval_mdl.outputs.eval_output,\n",
    "    }\n",
    "\n",
    "\n",
    "pipeline = pipeline_with_components_from_yaml(\n",
    "    training_input=Input(type=\"uri_folder\", path=\"./resources/pipeline-from-yaml/data/\"),\n",
    "    test_input=Input(type=\"uri_folder\", path=\"./resources/pipeline-from-yaml/data/\"),\n",
    "    training_max_epochs=20,\n",
    "    training_learning_rate=1.8,\n",
    "    learning_rate_schedule=\"time-based\",\n",
    ")\n",
    "pipeline.settings.default_compute = AZURE_AML_CLUSTER\n",
    "experiment_name = \"expr-pipeline-from-yaml\"\n",
    "print(f\"Created Pipeline: {experiment_name}\")\n",
    "\n",
    "job = ml_client.jobs.create_or_update(pipeline, experiment_name=experiment_name)\n",
    "print(f\"Submitted Job: {job.display_name}\")\n",
    "\n",
    "ml_client.jobs.stream(job.name)"
   ]
  },
  {
   "cell_type": "markdown",
   "metadata": {},
   "source": [
    "결과는 AML Portal 에서 확인 가능하다. 이동해보자."
   ]
  }
 ],
 "metadata": {
  "description": {
   "description": "Create pipeline with CommandComponents from local YAML file"
  },
  "kernelspec": {
   "display_name": "env-lab-azure-handson-machine-learning-001",
   "language": "python",
   "name": "python3"
  },
  "language_info": {
   "codemirror_mode": {
    "name": "ipython",
    "version": 3
   },
   "file_extension": ".py",
   "mimetype": "text/x-python",
   "name": "python",
   "nbconvert_exporter": "python",
   "pygments_lexer": "ipython3",
   "version": "3.12.0"
  }
 },
 "nbformat": 4,
 "nbformat_minor": 2
}
